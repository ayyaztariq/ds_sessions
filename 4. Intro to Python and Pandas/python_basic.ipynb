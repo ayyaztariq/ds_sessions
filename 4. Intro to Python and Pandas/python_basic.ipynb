{
 "cells": [
  {
   "cell_type": "markdown",
   "id": "5c3fe8f8",
   "metadata": {},
   "source": [
    "1. **Types of Data**\n",
    "2. **Output** and **Input** functions\n",
    "3. **Lists** and Interate over List elements\n",
    "4. **Tuples** and Interate over Tuple elements\n",
    "5. **Dictionary** and Interate over Dictionary key and values\n",
    "6. **Arrays** and **Numpy Arrays**\n",
    "7. **Matrix**\n",
    "8. **IF & ELSE** Statements and **FOR** Loops"
   ]
  },
  {
   "cell_type": "markdown",
   "id": "1a89c74b",
   "metadata": {},
   "source": [
    "1. **Types of Data**\n",
    "- Boolean\n",
    "- Integer\n",
    "- Float\n",
    "- Character/String"
   ]
  },
  {
   "cell_type": "code",
   "execution_count": 1,
   "id": "a1d5db3c",
   "metadata": {},
   "outputs": [
    {
     "name": "stdout",
     "output_type": "stream",
     "text": [
      "False\n",
      "True\n"
     ]
    }
   ],
   "source": [
    "a = True\n",
    "b = False\n",
    "\n",
    "print(a & b)\n",
    "print(a | b)"
   ]
  },
  {
   "cell_type": "code",
   "execution_count": 50,
   "id": "5e682725",
   "metadata": {},
   "outputs": [
    {
     "name": "stdout",
     "output_type": "stream",
     "text": [
      "150\n"
     ]
    },
    {
     "data": {
      "text/plain": [
       "int"
      ]
     },
     "execution_count": 50,
     "metadata": {},
     "output_type": "execute_result"
    }
   ],
   "source": [
    "c = 150\n",
    "print(c)\n",
    "type(c)"
   ]
  },
  {
   "cell_type": "code",
   "execution_count": 52,
   "id": "4f5bbf36",
   "metadata": {},
   "outputs": [
    {
     "name": "stdout",
     "output_type": "stream",
     "text": [
      "15.6\n"
     ]
    },
    {
     "data": {
      "text/plain": [
       "float"
      ]
     },
     "execution_count": 52,
     "metadata": {},
     "output_type": "execute_result"
    }
   ],
   "source": [
    "d = 15.6\n",
    "print(d)\n",
    "type(d)"
   ]
  },
  {
   "cell_type": "code",
   "execution_count": 53,
   "id": "8ac1404c",
   "metadata": {},
   "outputs": [
    {
     "name": "stdout",
     "output_type": "stream",
     "text": [
      "a\n"
     ]
    },
    {
     "data": {
      "text/plain": [
       "str"
      ]
     },
     "execution_count": 53,
     "metadata": {},
     "output_type": "execute_result"
    }
   ],
   "source": [
    "e = 'a'  # \"a\"\n",
    "print(e)\n",
    "type(e)"
   ]
  },
  {
   "cell_type": "code",
   "execution_count": 54,
   "id": "1713cb13",
   "metadata": {},
   "outputs": [
    {
     "name": "stdout",
     "output_type": "stream",
     "text": [
      "LINE\n"
     ]
    },
    {
     "data": {
      "text/plain": [
       "str"
      ]
     },
     "execution_count": 54,
     "metadata": {},
     "output_type": "execute_result"
    }
   ],
   "source": [
    "f = 'LINE'  # \"a\"\n",
    "print(f)\n",
    "type(f)"
   ]
  },
  {
   "cell_type": "code",
   "execution_count": 58,
   "id": "d278d147",
   "metadata": {},
   "outputs": [
    {
     "ename": "ValueError",
     "evalue": "invalid literal for int() with base 10: 'LINE'",
     "output_type": "error",
     "traceback": [
      "\u001b[1;31m---------------------------------------------------------------------------\u001b[0m",
      "\u001b[1;31mValueError\u001b[0m                                Traceback (most recent call last)",
      "\u001b[1;32m<ipython-input-58-15c82ade717a>\u001b[0m in \u001b[0;36m<module>\u001b[1;34m\u001b[0m\n\u001b[1;32m----> 1\u001b[1;33m \u001b[0mint\u001b[0m\u001b[1;33m(\u001b[0m\u001b[0mf\u001b[0m\u001b[1;33m)\u001b[0m\u001b[1;33m\u001b[0m\u001b[1;33m\u001b[0m\u001b[0m\n\u001b[0m",
      "\u001b[1;31mValueError\u001b[0m: invalid literal for int() with base 10: 'LINE'"
     ]
    }
   ],
   "source": [
    "int(f)"
   ]
  },
  {
   "cell_type": "markdown",
   "id": "3c0d03bf",
   "metadata": {},
   "source": [
    "2. **Output** and **Input** functions"
   ]
  },
  {
   "cell_type": "code",
   "execution_count": 62,
   "id": "cca5786f",
   "metadata": {},
   "outputs": [
    {
     "name": "stdout",
     "output_type": "stream",
     "text": [
      "15.6\n",
      "a\n"
     ]
    }
   ],
   "source": [
    "print(d)\n",
    "print(e)"
   ]
  },
  {
   "cell_type": "code",
   "execution_count": 63,
   "id": "11cf7840",
   "metadata": {},
   "outputs": [
    {
     "name": "stdout",
     "output_type": "stream",
     "text": [
      "This is output function\n"
     ]
    }
   ],
   "source": [
    "print('This is output function')"
   ]
  },
  {
   "cell_type": "code",
   "execution_count": 64,
   "id": "077e1c57",
   "metadata": {
    "scrolled": true
   },
   "outputs": [
    {
     "name": "stdout",
     "output_type": "stream",
     "text": [
      "This is output function\n"
     ]
    }
   ],
   "source": [
    "print(\"This is output function\")"
   ]
  },
  {
   "cell_type": "code",
   "execution_count": 73,
   "id": "90036b6c",
   "metadata": {},
   "outputs": [
    {
     "name": "stdout",
     "output_type": "stream",
     "text": [
      "Please enter your choice: 4\n",
      "4\n"
     ]
    }
   ],
   "source": [
    "inp = input('Please enter your choice: ')\n",
    "print(inp)"
   ]
  },
  {
   "cell_type": "code",
   "execution_count": 74,
   "id": "1e8b9f2d",
   "metadata": {},
   "outputs": [
    {
     "data": {
      "text/plain": [
       "str"
      ]
     },
     "execution_count": 74,
     "metadata": {},
     "output_type": "execute_result"
    }
   ],
   "source": [
    "type(inp)"
   ]
  },
  {
   "cell_type": "code",
   "execution_count": 75,
   "id": "03ca34ad",
   "metadata": {},
   "outputs": [
    {
     "data": {
      "text/plain": [
       "8"
      ]
     },
     "execution_count": 75,
     "metadata": {},
     "output_type": "execute_result"
    }
   ],
   "source": [
    "int(inp) + 4"
   ]
  },
  {
   "cell_type": "markdown",
   "id": "ce0c9f32",
   "metadata": {},
   "source": [
    "3. **Lists** and Interate over List elements"
   ]
  },
  {
   "cell_type": "code",
   "execution_count": 98,
   "id": "cd901633",
   "metadata": {},
   "outputs": [
    {
     "name": "stdout",
     "output_type": "stream",
     "text": [
      "[1, 5, 8, 4, 6]\n"
     ]
    }
   ],
   "source": [
    "lst = [1,5,8,4,6]\n",
    "print(lst)"
   ]
  },
  {
   "cell_type": "code",
   "execution_count": 127,
   "id": "2a4dcad6",
   "metadata": {},
   "outputs": [
    {
     "data": {
      "text/plain": [
       "[2, 6, 9, 5, 7, 2, 6, 9, 5, 7, 2, 6, 9, 5, 7]"
      ]
     },
     "execution_count": 127,
     "metadata": {},
     "output_type": "execute_result"
    }
   ],
   "source": [
    "lst * 3"
   ]
  },
  {
   "cell_type": "code",
   "execution_count": 128,
   "id": "5c254a95",
   "metadata": {},
   "outputs": [
    {
     "ename": "TypeError",
     "evalue": "can only concatenate list (not \"int\") to list",
     "output_type": "error",
     "traceback": [
      "\u001b[1;31m---------------------------------------------------------------------------\u001b[0m",
      "\u001b[1;31mTypeError\u001b[0m                                 Traceback (most recent call last)",
      "\u001b[1;32m<ipython-input-128-0f3bd86316ef>\u001b[0m in \u001b[0;36m<module>\u001b[1;34m\u001b[0m\n\u001b[1;32m----> 1\u001b[1;33m \u001b[0mlst\u001b[0m \u001b[1;33m+\u001b[0m \u001b[1;36m1\u001b[0m\u001b[1;33m\u001b[0m\u001b[1;33m\u001b[0m\u001b[0m\n\u001b[0m",
      "\u001b[1;31mTypeError\u001b[0m: can only concatenate list (not \"int\") to list"
     ]
    }
   ],
   "source": [
    "lst + 1"
   ]
  },
  {
   "cell_type": "code",
   "execution_count": 84,
   "id": "0deae80e",
   "metadata": {},
   "outputs": [
    {
     "data": {
      "text/plain": [
       "5"
      ]
     },
     "execution_count": 84,
     "metadata": {},
     "output_type": "execute_result"
    }
   ],
   "source": [
    "len(lst)"
   ]
  },
  {
   "cell_type": "code",
   "execution_count": 90,
   "id": "b074ec96",
   "metadata": {},
   "outputs": [],
   "source": [
    "lst[4] =  lst[4] + 1"
   ]
  },
  {
   "cell_type": "code",
   "execution_count": 91,
   "id": "cd160ebf",
   "metadata": {},
   "outputs": [
    {
     "data": {
      "text/plain": [
       "[1, 5, 8, 4, 7]"
      ]
     },
     "execution_count": 91,
     "metadata": {},
     "output_type": "execute_result"
    }
   ],
   "source": [
    "lst"
   ]
  },
  {
   "cell_type": "code",
   "execution_count": 96,
   "id": "9b8c2f53",
   "metadata": {},
   "outputs": [
    {
     "data": {
      "text/plain": [
       "range(0, 10)"
      ]
     },
     "execution_count": 96,
     "metadata": {},
     "output_type": "execute_result"
    }
   ],
   "source": [
    "range(10)"
   ]
  },
  {
   "cell_type": "code",
   "execution_count": 99,
   "id": "e3ea9fab",
   "metadata": {},
   "outputs": [
    {
     "name": "stdout",
     "output_type": "stream",
     "text": [
      "0\n",
      "1\n",
      "2\n",
      "3\n",
      "4\n",
      "[2, 6, 9, 5, 7]\n"
     ]
    }
   ],
   "source": [
    "for index in range(len(lst)):\n",
    "    print(index)\n",
    "    lst[index] = lst[index] + 1\n",
    "print(lst)"
   ]
  },
  {
   "cell_type": "code",
   "execution_count": 20,
   "id": "3ce3292d",
   "metadata": {},
   "outputs": [
    {
     "name": "stdout",
     "output_type": "stream",
     "text": [
      "[2, 6, 9, 5, 7]\n"
     ]
    }
   ],
   "source": [
    "index = 0\n",
    "for num in lst:\n",
    "    lst[index] = lst[index] + 1\n",
    "    index = index + 1\n",
    "print(lst)"
   ]
  },
  {
   "cell_type": "code",
   "execution_count": 100,
   "id": "63cc1f3b",
   "metadata": {},
   "outputs": [],
   "source": [
    "lst2 = [1, 'd', True, 15.6]  # Mixed Data type list"
   ]
  },
  {
   "cell_type": "code",
   "execution_count": 101,
   "id": "d88ed742",
   "metadata": {},
   "outputs": [
    {
     "data": {
      "text/plain": [
       "list"
      ]
     },
     "execution_count": 101,
     "metadata": {},
     "output_type": "execute_result"
    }
   ],
   "source": [
    "type(lst2)"
   ]
  },
  {
   "cell_type": "code",
   "execution_count": 102,
   "id": "b830fd8a",
   "metadata": {},
   "outputs": [
    {
     "name": "stdout",
     "output_type": "stream",
     "text": [
      "[1, 'd', True, 15.6]\n"
     ]
    }
   ],
   "source": [
    "print(lst2)"
   ]
  },
  {
   "cell_type": "code",
   "execution_count": 103,
   "id": "de1cba40",
   "metadata": {},
   "outputs": [
    {
     "data": {
      "text/plain": [
       "[1, 'd', False, 15.6]"
      ]
     },
     "execution_count": 103,
     "metadata": {},
     "output_type": "execute_result"
    }
   ],
   "source": [
    "lst2[2] = False\n",
    "lst2"
   ]
  },
  {
   "cell_type": "markdown",
   "id": "e6ecf142",
   "metadata": {},
   "source": [
    "4. **Tuples** and Interate over Tuple elements"
   ]
  },
  {
   "cell_type": "code",
   "execution_count": 104,
   "id": "8cbc2053",
   "metadata": {},
   "outputs": [
    {
     "name": "stdout",
     "output_type": "stream",
     "text": [
      "(1, 5, 8, 4, 6)\n"
     ]
    }
   ],
   "source": [
    "tup = (1,5,8,4,6)  # Tuple is and Immutable list\n",
    "print(tup)"
   ]
  },
  {
   "cell_type": "code",
   "execution_count": 105,
   "id": "a2770dcc",
   "metadata": {},
   "outputs": [
    {
     "ename": "TypeError",
     "evalue": "'tuple' object does not support item assignment",
     "output_type": "error",
     "traceback": [
      "\u001b[1;31m---------------------------------------------------------------------------\u001b[0m",
      "\u001b[1;31mTypeError\u001b[0m                                 Traceback (most recent call last)",
      "\u001b[1;32m<ipython-input-105-874559a0c62a>\u001b[0m in \u001b[0;36m<module>\u001b[1;34m\u001b[0m\n\u001b[1;32m----> 1\u001b[1;33m \u001b[0mtup\u001b[0m\u001b[1;33m[\u001b[0m\u001b[1;36m0\u001b[0m\u001b[1;33m]\u001b[0m \u001b[1;33m=\u001b[0m \u001b[1;36m2\u001b[0m\u001b[1;33m\u001b[0m\u001b[1;33m\u001b[0m\u001b[0m\n\u001b[0m",
      "\u001b[1;31mTypeError\u001b[0m: 'tuple' object does not support item assignment"
     ]
    }
   ],
   "source": [
    "tup[0] = 2"
   ]
  },
  {
   "cell_type": "code",
   "execution_count": 106,
   "id": "f0f32630",
   "metadata": {},
   "outputs": [
    {
     "name": "stdout",
     "output_type": "stream",
     "text": [
      "1\n",
      "5\n",
      "8\n",
      "4\n",
      "6\n"
     ]
    }
   ],
   "source": [
    "for num in tup:\n",
    "    print(num)"
   ]
  },
  {
   "cell_type": "markdown",
   "id": "7f551f4f",
   "metadata": {},
   "source": [
    "5. **Dictionary** and Interate over Dictionary key and values"
   ]
  },
  {
   "cell_type": "code",
   "execution_count": 115,
   "id": "cd5461d3",
   "metadata": {},
   "outputs": [
    {
     "name": "stdout",
     "output_type": "stream",
     "text": [
      "{'number': [2, 5, 6, 6], 'char': 'a', 'string': 'word', 'boolean': True}\n"
     ]
    }
   ],
   "source": [
    "dct = {'number': [2,5,6,6], 'char': 'a', 'string': 'word', 'boolean': True}\n",
    "print(dct)"
   ]
  },
  {
   "cell_type": "code",
   "execution_count": 116,
   "id": "2134128f",
   "metadata": {},
   "outputs": [
    {
     "name": "stdout",
     "output_type": "stream",
     "text": [
      "number  :  [2, 5, 6, 6]\n",
      "char  :  a\n",
      "string  :  word\n",
      "boolean  :  True\n"
     ]
    },
    {
     "data": {
      "text/plain": [
       "{'number': [4, 5, 6, 6], 'char': 'a', 'string': 'word', 'boolean': True}"
      ]
     },
     "execution_count": 116,
     "metadata": {},
     "output_type": "execute_result"
    }
   ],
   "source": [
    "for key, value in dct.items():\n",
    "    print(key, \" : \", value)\n",
    "    if type(value) == list:\n",
    "        for index in range(len(value)):\n",
    "            if value[index] == 2:\n",
    "                value[index] = value[index] +2\n",
    "dct"
   ]
  },
  {
   "cell_type": "markdown",
   "id": "efe4005f",
   "metadata": {},
   "source": [
    "6. **Arrays** and **Numpy Arrays**"
   ]
  },
  {
   "cell_type": "code",
   "execution_count": 117,
   "id": "a714d2b2",
   "metadata": {},
   "outputs": [],
   "source": [
    "import numpy as np"
   ]
  },
  {
   "cell_type": "code",
   "execution_count": null,
   "id": "501e416e",
   "metadata": {},
   "outputs": [],
   "source": [
    "## Not mixed. Only same types"
   ]
  },
  {
   "cell_type": "code",
   "execution_count": 121,
   "id": "087052e3",
   "metadata": {},
   "outputs": [
    {
     "name": "stdout",
     "output_type": "stream",
     "text": [
      "[ 1.   2.   3.  15.6]\n",
      "<class 'numpy.ndarray'>\n"
     ]
    },
    {
     "data": {
      "text/plain": [
       "dtype('float64')"
      ]
     },
     "execution_count": 121,
     "metadata": {},
     "output_type": "execute_result"
    }
   ],
   "source": [
    "arr2 = np.array([1,2,3, 15.6])\n",
    "print(arr2)\n",
    "print(type(arr2))\n",
    "arr2.dtype"
   ]
  },
  {
   "cell_type": "code",
   "execution_count": 28,
   "id": "e6acb33b",
   "metadata": {},
   "outputs": [
    {
     "name": "stdout",
     "output_type": "stream",
     "text": [
      "[1, 2, 3, 4, 5, 6, 7, 8, 9]\n",
      "9\n"
     ]
    }
   ],
   "source": [
    "lst1 = [1,2,3,4,5,6,7,8,9]\n",
    "print(lst1)\n",
    "print(len(lst1))"
   ]
  },
  {
   "cell_type": "code",
   "execution_count": 31,
   "id": "2406758a",
   "metadata": {},
   "outputs": [
    {
     "name": "stdout",
     "output_type": "stream",
     "text": [
      "<class 'numpy.ndarray'>\n"
     ]
    },
    {
     "data": {
      "text/plain": [
       "array([1, 2, 3, 4, 5, 6, 7, 8, 9])"
      ]
     },
     "execution_count": 31,
     "metadata": {},
     "output_type": "execute_result"
    }
   ],
   "source": [
    "arr1 = np.array(lst1)\n",
    "print(type(arr1))\n",
    "arr1"
   ]
  },
  {
   "cell_type": "code",
   "execution_count": 123,
   "id": "95c2f86f",
   "metadata": {},
   "outputs": [
    {
     "data": {
      "text/plain": [
       "9"
      ]
     },
     "execution_count": 123,
     "metadata": {},
     "output_type": "execute_result"
    }
   ],
   "source": [
    "arr1[8]"
   ]
  },
  {
   "cell_type": "code",
   "execution_count": 125,
   "id": "3dca0b15",
   "metadata": {},
   "outputs": [
    {
     "data": {
      "text/plain": [
       "array([ 3,  6,  9, 12, 15, 18, 21, 24, 27])"
      ]
     },
     "execution_count": 125,
     "metadata": {},
     "output_type": "execute_result"
    }
   ],
   "source": [
    "arr1*3"
   ]
  },
  {
   "cell_type": "code",
   "execution_count": 126,
   "id": "f84336b4",
   "metadata": {},
   "outputs": [
    {
     "data": {
      "text/plain": [
       "array([ 2,  3,  4,  5,  6,  7,  8,  9, 10])"
      ]
     },
     "execution_count": 126,
     "metadata": {},
     "output_type": "execute_result"
    }
   ],
   "source": [
    "arr1+1"
   ]
  },
  {
   "cell_type": "code",
   "execution_count": 130,
   "id": "850ccbd6",
   "metadata": {},
   "outputs": [
    {
     "data": {
      "text/plain": [
       "array([0.5, 1. , 1.5, 2. , 2.5, 3. , 3.5, 4. , 4.5])"
      ]
     },
     "execution_count": 130,
     "metadata": {},
     "output_type": "execute_result"
    }
   ],
   "source": [
    "arr1/2"
   ]
  },
  {
   "cell_type": "markdown",
   "id": "1e193e7b",
   "metadata": {},
   "source": [
    "7. **Matrix**"
   ]
  },
  {
   "cell_type": "code",
   "execution_count": 133,
   "id": "dbd2e860",
   "metadata": {},
   "outputs": [
    {
     "data": {
      "text/plain": [
       "array([[1, 2, 3],\n",
       "       [4, 5, 6],\n",
       "       [7, 8, 9]])"
      ]
     },
     "execution_count": 133,
     "metadata": {},
     "output_type": "execute_result"
    }
   ],
   "source": [
    "np.array( [ [1, 2, 3],[4, 5, 6],[7, 8, 9] ] )"
   ]
  },
  {
   "cell_type": "code",
   "execution_count": 134,
   "id": "2b594a4f",
   "metadata": {},
   "outputs": [
    {
     "data": {
      "text/plain": [
       "array([[1, 2, 3],\n",
       "       [4, 5, 6]])"
      ]
     },
     "execution_count": 134,
     "metadata": {},
     "output_type": "execute_result"
    }
   ],
   "source": [
    "np.array( [ [1, 2, 3],[4, 5, 6] ] )"
   ]
  },
  {
   "cell_type": "code",
   "execution_count": 131,
   "id": "44796f46",
   "metadata": {},
   "outputs": [
    {
     "data": {
      "text/plain": [
       "array([[1, 2, 3],\n",
       "       [4, 5, 6],\n",
       "       [7, 8, 9]])"
      ]
     },
     "execution_count": 131,
     "metadata": {},
     "output_type": "execute_result"
    }
   ],
   "source": [
    "mat1 = np.reshape(arr1, newshape = (3,3))\n",
    "mat1"
   ]
  },
  {
   "cell_type": "code",
   "execution_count": 34,
   "id": "8d59469b",
   "metadata": {},
   "outputs": [
    {
     "data": {
      "text/plain": [
       "numpy.ndarray"
      ]
     },
     "execution_count": 34,
     "metadata": {},
     "output_type": "execute_result"
    }
   ],
   "source": [
    "type(mat1)"
   ]
  },
  {
   "cell_type": "code",
   "execution_count": 135,
   "id": "44972346",
   "metadata": {},
   "outputs": [
    {
     "data": {
      "text/plain": [
       "(9,)"
      ]
     },
     "execution_count": 135,
     "metadata": {},
     "output_type": "execute_result"
    }
   ],
   "source": [
    "arr1.shape"
   ]
  },
  {
   "cell_type": "code",
   "execution_count": 136,
   "id": "74d39045",
   "metadata": {},
   "outputs": [
    {
     "data": {
      "text/plain": [
       "(3, 3)"
      ]
     },
     "execution_count": 136,
     "metadata": {},
     "output_type": "execute_result"
    }
   ],
   "source": [
    "mat1.shape"
   ]
  },
  {
   "cell_type": "code",
   "execution_count": 36,
   "id": "eb160df7",
   "metadata": {},
   "outputs": [
    {
     "data": {
      "text/plain": [
       "2"
      ]
     },
     "execution_count": 36,
     "metadata": {},
     "output_type": "execute_result"
    }
   ],
   "source": [
    "mat1.ndim"
   ]
  },
  {
   "cell_type": "code",
   "execution_count": 137,
   "id": "009271fe",
   "metadata": {},
   "outputs": [
    {
     "data": {
      "text/plain": [
       "1"
      ]
     },
     "execution_count": 137,
     "metadata": {},
     "output_type": "execute_result"
    }
   ],
   "source": [
    "arr1.ndim"
   ]
  },
  {
   "cell_type": "markdown",
   "id": "a289c652",
   "metadata": {},
   "source": [
    "8. **IF & ELSE** Statements and **FOR** Loops"
   ]
  },
  {
   "cell_type": "code",
   "execution_count": 141,
   "id": "264bac76",
   "metadata": {},
   "outputs": [
    {
     "name": "stdout",
     "output_type": "stream",
     "text": [
      "[5, 7, 4, 3, 6, 8, 6, 2, 1]\n",
      "9\n"
     ]
    }
   ],
   "source": [
    "lst2 = [5,7,4,3,6,8,6,2,1]\n",
    "print(lst2)\n",
    "print(len(lst2))"
   ]
  },
  {
   "cell_type": "code",
   "execution_count": 142,
   "id": "f3302ff1",
   "metadata": {},
   "outputs": [
    {
     "name": "stdout",
     "output_type": "stream",
     "text": [
      "5  :  0\n",
      "7  :  1\n",
      "4  :  2\n",
      "3  :  3\n",
      "6  :  4\n",
      "8  :  5\n",
      "6  :  6\n",
      "2  :  7\n",
      "1  :  8\n"
     ]
    }
   ],
   "source": [
    "index = 0\n",
    "for element in lst2:\n",
    "    print(element,\" : \" ,index)\n",
    "    index = index + 1"
   ]
  },
  {
   "cell_type": "code",
   "execution_count": 144,
   "id": "706493bd",
   "metadata": {},
   "outputs": [
    {
     "name": "stdout",
     "output_type": "stream",
     "text": [
      "5  :  0\n",
      "7  :  1\n",
      "element is less than 5\n",
      "element is less than 5\n",
      "6  :  4\n",
      "8  :  5\n",
      "6  :  6\n",
      "element is less than 5\n",
      "element is less than 5\n"
     ]
    }
   ],
   "source": [
    "index = 0\n",
    "for element in lst2:\n",
    "    if element >= 5:\n",
    "        print(element,\" : \" ,index)\n",
    "    else:\n",
    "        print('element is less than 5')\n",
    "    index = index + 1"
   ]
  },
  {
   "cell_type": "code",
   "execution_count": null,
   "id": "69ab29d6",
   "metadata": {},
   "outputs": [],
   "source": []
  }
 ],
 "metadata": {
  "kernelspec": {
   "display_name": "Python 3",
   "language": "python",
   "name": "python3"
  },
  "language_info": {
   "codemirror_mode": {
    "name": "ipython",
    "version": 3
   },
   "file_extension": ".py",
   "mimetype": "text/x-python",
   "name": "python",
   "nbconvert_exporter": "python",
   "pygments_lexer": "ipython3",
   "version": "3.6.13"
  }
 },
 "nbformat": 4,
 "nbformat_minor": 5
}
