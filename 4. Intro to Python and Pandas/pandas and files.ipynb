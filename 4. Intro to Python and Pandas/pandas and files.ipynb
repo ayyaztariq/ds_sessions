{
 "cells": [
  {
   "cell_type": "code",
   "execution_count": 65,
   "id": "8f3da30c",
   "metadata": {},
   "outputs": [],
   "source": [
    "import pandas as pd\n",
    "import os\n",
    "import glob"
   ]
  },
  {
   "cell_type": "code",
   "execution_count": 7,
   "id": "b43c09b5",
   "metadata": {},
   "outputs": [],
   "source": [
    "df = pd.read_csv('Historical_data.csv')"
   ]
  },
  {
   "cell_type": "code",
   "execution_count": 12,
   "id": "ebcf5ad4",
   "metadata": {},
   "outputs": [
    {
     "data": {
      "text/html": [
       "<div>\n",
       "<style scoped>\n",
       "    .dataframe tbody tr th:only-of-type {\n",
       "        vertical-align: middle;\n",
       "    }\n",
       "\n",
       "    .dataframe tbody tr th {\n",
       "        vertical-align: top;\n",
       "    }\n",
       "\n",
       "    .dataframe thead th {\n",
       "        text-align: right;\n",
       "    }\n",
       "</style>\n",
       "<table border=\"1\" class=\"dataframe\">\n",
       "  <thead>\n",
       "    <tr style=\"text-align: right;\">\n",
       "      <th></th>\n",
       "      <th>Date</th>\n",
       "      <th>Price</th>\n",
       "      <th>Open</th>\n",
       "      <th>High</th>\n",
       "      <th>Low</th>\n",
       "      <th>Change %</th>\n",
       "    </tr>\n",
       "  </thead>\n",
       "  <tbody>\n",
       "    <tr>\n",
       "      <th>0</th>\n",
       "      <td>10-Jan-00</td>\n",
       "      <td>1,457.60</td>\n",
       "      <td>1,441.50</td>\n",
       "      <td>1,464.40</td>\n",
       "      <td>1,441.50</td>\n",
       "      <td>1.12%</td>\n",
       "    </tr>\n",
       "    <tr>\n",
       "      <th>1</th>\n",
       "      <td>11-Jan-00</td>\n",
       "      <td>1,438.60</td>\n",
       "      <td>1,457.60</td>\n",
       "      <td>1,458.80</td>\n",
       "      <td>1,434.40</td>\n",
       "      <td>-1.30%</td>\n",
       "    </tr>\n",
       "    <tr>\n",
       "      <th>2</th>\n",
       "      <td>12-Jan-00</td>\n",
       "      <td>1,432.20</td>\n",
       "      <td>1,439.10</td>\n",
       "      <td>1,445.30</td>\n",
       "      <td>1,427.30</td>\n",
       "      <td>-0.44%</td>\n",
       "    </tr>\n",
       "    <tr>\n",
       "      <th>3</th>\n",
       "      <td>13-Jan-00</td>\n",
       "      <td>1,449.70</td>\n",
       "      <td>1,432.20</td>\n",
       "      <td>1,454.60</td>\n",
       "      <td>1,432.20</td>\n",
       "      <td>1.22%</td>\n",
       "    </tr>\n",
       "    <tr>\n",
       "      <th>4</th>\n",
       "      <td>14-Jan-00</td>\n",
       "      <td>1,465.20</td>\n",
       "      <td>1,449.70</td>\n",
       "      <td>1,473.00</td>\n",
       "      <td>1,449.70</td>\n",
       "      <td>1.07%</td>\n",
       "    </tr>\n",
       "  </tbody>\n",
       "</table>\n",
       "</div>"
      ],
      "text/plain": [
       "        Date     Price      Open      High       Low Change %\n",
       "0  10-Jan-00  1,457.60  1,441.50  1,464.40  1,441.50    1.12%\n",
       "1  11-Jan-00  1,438.60  1,457.60  1,458.80  1,434.40   -1.30%\n",
       "2  12-Jan-00  1,432.20  1,439.10  1,445.30  1,427.30   -0.44%\n",
       "3  13-Jan-00  1,449.70  1,432.20  1,454.60  1,432.20    1.22%\n",
       "4  14-Jan-00  1,465.20  1,449.70  1,473.00  1,449.70    1.07%"
      ]
     },
     "execution_count": 12,
     "metadata": {},
     "output_type": "execute_result"
    }
   ],
   "source": [
    "df.head()"
   ]
  },
  {
   "cell_type": "code",
   "execution_count": 13,
   "id": "dca7947a",
   "metadata": {
    "scrolled": true
   },
   "outputs": [
    {
     "data": {
      "text/html": [
       "<div>\n",
       "<style scoped>\n",
       "    .dataframe tbody tr th:only-of-type {\n",
       "        vertical-align: middle;\n",
       "    }\n",
       "\n",
       "    .dataframe tbody tr th {\n",
       "        vertical-align: top;\n",
       "    }\n",
       "\n",
       "    .dataframe thead th {\n",
       "        text-align: right;\n",
       "    }\n",
       "</style>\n",
       "<table border=\"1\" class=\"dataframe\">\n",
       "  <thead>\n",
       "    <tr style=\"text-align: right;\">\n",
       "      <th></th>\n",
       "      <th>Date</th>\n",
       "      <th>Price</th>\n",
       "      <th>Open</th>\n",
       "      <th>High</th>\n",
       "      <th>Low</th>\n",
       "      <th>Change %</th>\n",
       "    </tr>\n",
       "  </thead>\n",
       "  <tbody>\n",
       "    <tr>\n",
       "      <th>4995</th>\n",
       "      <td>15-Nov-19</td>\n",
       "      <td>3,120.46</td>\n",
       "      <td>3,107.92</td>\n",
       "      <td>3,120.46</td>\n",
       "      <td>3,104.60</td>\n",
       "      <td>0.77%</td>\n",
       "    </tr>\n",
       "    <tr>\n",
       "      <th>4996</th>\n",
       "      <td>18-Nov-19</td>\n",
       "      <td>3,122.03</td>\n",
       "      <td>3,117.91</td>\n",
       "      <td>3,124.17</td>\n",
       "      <td>3,112.06</td>\n",
       "      <td>0.05%</td>\n",
       "    </tr>\n",
       "    <tr>\n",
       "      <th>4997</th>\n",
       "      <td>19-Nov-19</td>\n",
       "      <td>3,120.18</td>\n",
       "      <td>3,127.45</td>\n",
       "      <td>3,127.64</td>\n",
       "      <td>3,113.47</td>\n",
       "      <td>-0.06%</td>\n",
       "    </tr>\n",
       "    <tr>\n",
       "      <th>4998</th>\n",
       "      <td>20-Nov-19</td>\n",
       "      <td>3,108.46</td>\n",
       "      <td>3,114.66</td>\n",
       "      <td>3,118.97</td>\n",
       "      <td>3,091.41</td>\n",
       "      <td>-0.38%</td>\n",
       "    </tr>\n",
       "    <tr>\n",
       "      <th>4999</th>\n",
       "      <td>21-Nov-19</td>\n",
       "      <td>3,103.54</td>\n",
       "      <td>3,108.49</td>\n",
       "      <td>3,110.11</td>\n",
       "      <td>3,094.55</td>\n",
       "      <td>-0.16%</td>\n",
       "    </tr>\n",
       "  </tbody>\n",
       "</table>\n",
       "</div>"
      ],
      "text/plain": [
       "           Date     Price      Open      High       Low Change %\n",
       "4995  15-Nov-19  3,120.46  3,107.92  3,120.46  3,104.60    0.77%\n",
       "4996  18-Nov-19  3,122.03  3,117.91  3,124.17  3,112.06    0.05%\n",
       "4997  19-Nov-19  3,120.18  3,127.45  3,127.64  3,113.47   -0.06%\n",
       "4998  20-Nov-19  3,108.46  3,114.66  3,118.97  3,091.41   -0.38%\n",
       "4999  21-Nov-19  3,103.54  3,108.49  3,110.11  3,094.55   -0.16%"
      ]
     },
     "execution_count": 13,
     "metadata": {},
     "output_type": "execute_result"
    }
   ],
   "source": [
    "df.tail()"
   ]
  },
  {
   "cell_type": "code",
   "execution_count": 15,
   "id": "9d76063b",
   "metadata": {},
   "outputs": [
    {
     "data": {
      "text/plain": [
       "Date        object\n",
       "Price       object\n",
       "Open        object\n",
       "High        object\n",
       "Low         object\n",
       "Change %    object\n",
       "dtype: object"
      ]
     },
     "execution_count": 15,
     "metadata": {},
     "output_type": "execute_result"
    }
   ],
   "source": [
    "df.dtypes"
   ]
  },
  {
   "cell_type": "code",
   "execution_count": 16,
   "id": "2d13becc",
   "metadata": {},
   "outputs": [
    {
     "data": {
      "text/html": [
       "<div>\n",
       "<style scoped>\n",
       "    .dataframe tbody tr th:only-of-type {\n",
       "        vertical-align: middle;\n",
       "    }\n",
       "\n",
       "    .dataframe tbody tr th {\n",
       "        vertical-align: top;\n",
       "    }\n",
       "\n",
       "    .dataframe thead th {\n",
       "        text-align: right;\n",
       "    }\n",
       "</style>\n",
       "<table border=\"1\" class=\"dataframe\">\n",
       "  <thead>\n",
       "    <tr style=\"text-align: right;\">\n",
       "      <th></th>\n",
       "      <th>Date</th>\n",
       "      <th>Price</th>\n",
       "      <th>Open</th>\n",
       "      <th>High</th>\n",
       "      <th>Low</th>\n",
       "      <th>Change %</th>\n",
       "    </tr>\n",
       "  </thead>\n",
       "  <tbody>\n",
       "    <tr>\n",
       "      <th>count</th>\n",
       "      <td>5000</td>\n",
       "      <td>4997</td>\n",
       "      <td>4995</td>\n",
       "      <td>4997</td>\n",
       "      <td>4997</td>\n",
       "      <td>4998</td>\n",
       "    </tr>\n",
       "    <tr>\n",
       "      <th>unique</th>\n",
       "      <td>5000</td>\n",
       "      <td>4731</td>\n",
       "      <td>4735</td>\n",
       "      <td>4715</td>\n",
       "      <td>4717</td>\n",
       "      <td>647</td>\n",
       "    </tr>\n",
       "    <tr>\n",
       "      <th>top</th>\n",
       "      <td>14-Dec-18</td>\n",
       "      <td>1,130.50</td>\n",
       "      <td>1,130.50</td>\n",
       "      <td>1,198.80</td>\n",
       "      <td>1,171.40</td>\n",
       "      <td>0.00%</td>\n",
       "    </tr>\n",
       "    <tr>\n",
       "      <th>freq</th>\n",
       "      <td>1</td>\n",
       "      <td>4</td>\n",
       "      <td>4</td>\n",
       "      <td>5</td>\n",
       "      <td>6</td>\n",
       "      <td>40</td>\n",
       "    </tr>\n",
       "  </tbody>\n",
       "</table>\n",
       "</div>"
      ],
      "text/plain": [
       "             Date     Price      Open      High       Low Change %\n",
       "count        5000      4997      4995      4997      4997     4998\n",
       "unique       5000      4731      4735      4715      4717      647\n",
       "top     14-Dec-18  1,130.50  1,130.50  1,198.80  1,171.40    0.00%\n",
       "freq            1         4         4         5         6       40"
      ]
     },
     "execution_count": 16,
     "metadata": {},
     "output_type": "execute_result"
    }
   ],
   "source": [
    "df.describe()"
   ]
  },
  {
   "cell_type": "code",
   "execution_count": 17,
   "id": "051f546b",
   "metadata": {},
   "outputs": [
    {
     "name": "stdout",
     "output_type": "stream",
     "text": [
      "<class 'pandas.core.frame.DataFrame'>\n",
      "RangeIndex: 5000 entries, 0 to 4999\n",
      "Data columns (total 6 columns):\n",
      " #   Column    Non-Null Count  Dtype \n",
      "---  ------    --------------  ----- \n",
      " 0   Date      5000 non-null   object\n",
      " 1   Price     4997 non-null   object\n",
      " 2   Open      4995 non-null   object\n",
      " 3   High      4997 non-null   object\n",
      " 4   Low       4997 non-null   object\n",
      " 5   Change %  4998 non-null   object\n",
      "dtypes: object(6)\n",
      "memory usage: 234.5+ KB\n"
     ]
    }
   ],
   "source": [
    "df.info()"
   ]
  },
  {
   "cell_type": "code",
   "execution_count": 45,
   "id": "4df35cb6",
   "metadata": {},
   "outputs": [
    {
     "data": {
      "text/plain": [
       "Date        0\n",
       "Price       3\n",
       "Open        5\n",
       "High        3\n",
       "Low         3\n",
       "Change %    2\n",
       "dtype: int64"
      ]
     },
     "execution_count": 45,
     "metadata": {},
     "output_type": "execute_result"
    }
   ],
   "source": [
    "df.isna().sum()"
   ]
  },
  {
   "cell_type": "markdown",
   "id": "38523448",
   "metadata": {},
   "source": [
    "### NULL = NA"
   ]
  },
  {
   "cell_type": "code",
   "execution_count": 47,
   "id": "c60fbf50",
   "metadata": {
    "scrolled": true
   },
   "outputs": [],
   "source": [
    "df.fillna(0, inplace=True)"
   ]
  },
  {
   "cell_type": "code",
   "execution_count": 48,
   "id": "714ba3bf",
   "metadata": {},
   "outputs": [
    {
     "name": "stdout",
     "output_type": "stream",
     "text": [
      "<class 'pandas.core.frame.DataFrame'>\n",
      "Int64Index: 5000 entries, 0 to 4999\n",
      "Data columns (total 6 columns):\n",
      " #   Column    Non-Null Count  Dtype         \n",
      "---  ------    --------------  -----         \n",
      " 0   Date      5000 non-null   datetime64[ns]\n",
      " 1   Price     5000 non-null   float64       \n",
      " 2   Open      5000 non-null   float64       \n",
      " 3   High      5000 non-null   float64       \n",
      " 4   Low       5000 non-null   float64       \n",
      " 5   Change %  5000 non-null   float64       \n",
      "dtypes: datetime64[ns](1), float64(5)\n",
      "memory usage: 273.4 KB\n"
     ]
    }
   ],
   "source": [
    "df.info()"
   ]
  },
  {
   "cell_type": "code",
   "execution_count": 24,
   "id": "15f53c38",
   "metadata": {},
   "outputs": [],
   "source": [
    "df['Price'] = df['Price'].str.replace(',','')\n",
    "df['Price'] = pd.to_numeric(df['Price'])"
   ]
  },
  {
   "cell_type": "code",
   "execution_count": 26,
   "id": "d0f30ebe",
   "metadata": {
    "scrolled": true
   },
   "outputs": [
    {
     "data": {
      "text/plain": [
       "Date         object\n",
       "Price       float64\n",
       "Open         object\n",
       "High         object\n",
       "Low          object\n",
       "Change %     object\n",
       "dtype: object"
      ]
     },
     "execution_count": 26,
     "metadata": {},
     "output_type": "execute_result"
    }
   ],
   "source": [
    "df.dtypes"
   ]
  },
  {
   "cell_type": "code",
   "execution_count": 27,
   "id": "d3049ea4",
   "metadata": {},
   "outputs": [
    {
     "data": {
      "text/plain": [
       "Index(['Date', 'Price', 'Open', 'High', 'Low', 'Change %'], dtype='object')"
      ]
     },
     "execution_count": 27,
     "metadata": {},
     "output_type": "execute_result"
    }
   ],
   "source": [
    "df.columns"
   ]
  },
  {
   "cell_type": "code",
   "execution_count": 29,
   "id": "ef8daf59",
   "metadata": {},
   "outputs": [],
   "source": [
    "col = ['Open', 'High', 'Low']\n",
    "for column in col:\n",
    "    df[column] = df[column].str.replace(',','')\n",
    "    df[column] = pd.to_numeric(df[column])"
   ]
  },
  {
   "cell_type": "code",
   "execution_count": 30,
   "id": "c637ed7f",
   "metadata": {},
   "outputs": [
    {
     "data": {
      "text/plain": [
       "Date         object\n",
       "Price       float64\n",
       "Open        float64\n",
       "High        float64\n",
       "Low         float64\n",
       "Change %     object\n",
       "dtype: object"
      ]
     },
     "execution_count": 30,
     "metadata": {},
     "output_type": "execute_result"
    }
   ],
   "source": [
    "df.dtypes"
   ]
  },
  {
   "cell_type": "code",
   "execution_count": 33,
   "id": "bc2a4118",
   "metadata": {},
   "outputs": [],
   "source": [
    "df['Date'] = pd.to_datetime(df['Date'])"
   ]
  },
  {
   "cell_type": "code",
   "execution_count": 34,
   "id": "fc0a7114",
   "metadata": {},
   "outputs": [
    {
     "data": {
      "text/plain": [
       "Date        datetime64[ns]\n",
       "Price              float64\n",
       "Open               float64\n",
       "High               float64\n",
       "Low                float64\n",
       "Change %            object\n",
       "dtype: object"
      ]
     },
     "execution_count": 34,
     "metadata": {},
     "output_type": "execute_result"
    }
   ],
   "source": [
    "df.dtypes"
   ]
  },
  {
   "cell_type": "code",
   "execution_count": 36,
   "id": "41ec2d90",
   "metadata": {},
   "outputs": [],
   "source": [
    "df['Change %'] = df['Change %'].str.replace('%','')\n",
    "df['Change %'] = pd.to_numeric(df['Change %'])\n",
    "df['Change %'] = df['Change %']/100"
   ]
  },
  {
   "cell_type": "code",
   "execution_count": 37,
   "id": "804a196e",
   "metadata": {},
   "outputs": [
    {
     "data": {
      "text/plain": [
       "Date        datetime64[ns]\n",
       "Price              float64\n",
       "Open               float64\n",
       "High               float64\n",
       "Low                float64\n",
       "Change %           float64\n",
       "dtype: object"
      ]
     },
     "execution_count": 37,
     "metadata": {},
     "output_type": "execute_result"
    }
   ],
   "source": [
    "df.dtypes"
   ]
  },
  {
   "cell_type": "code",
   "execution_count": 38,
   "id": "d5e704f4",
   "metadata": {},
   "outputs": [
    {
     "data": {
      "text/html": [
       "<div>\n",
       "<style scoped>\n",
       "    .dataframe tbody tr th:only-of-type {\n",
       "        vertical-align: middle;\n",
       "    }\n",
       "\n",
       "    .dataframe tbody tr th {\n",
       "        vertical-align: top;\n",
       "    }\n",
       "\n",
       "    .dataframe thead th {\n",
       "        text-align: right;\n",
       "    }\n",
       "</style>\n",
       "<table border=\"1\" class=\"dataframe\">\n",
       "  <thead>\n",
       "    <tr style=\"text-align: right;\">\n",
       "      <th></th>\n",
       "      <th>Date</th>\n",
       "      <th>Price</th>\n",
       "      <th>Open</th>\n",
       "      <th>High</th>\n",
       "      <th>Low</th>\n",
       "      <th>Change %</th>\n",
       "    </tr>\n",
       "  </thead>\n",
       "  <tbody>\n",
       "    <tr>\n",
       "      <th>0</th>\n",
       "      <td>2000-01-10</td>\n",
       "      <td>1457.6</td>\n",
       "      <td>1441.5</td>\n",
       "      <td>1464.4</td>\n",
       "      <td>1441.5</td>\n",
       "      <td>0.0112</td>\n",
       "    </tr>\n",
       "    <tr>\n",
       "      <th>1</th>\n",
       "      <td>2000-01-11</td>\n",
       "      <td>1438.6</td>\n",
       "      <td>1457.6</td>\n",
       "      <td>1458.8</td>\n",
       "      <td>1434.4</td>\n",
       "      <td>-0.0130</td>\n",
       "    </tr>\n",
       "    <tr>\n",
       "      <th>2</th>\n",
       "      <td>2000-01-12</td>\n",
       "      <td>1432.2</td>\n",
       "      <td>1439.1</td>\n",
       "      <td>1445.3</td>\n",
       "      <td>1427.3</td>\n",
       "      <td>-0.0044</td>\n",
       "    </tr>\n",
       "    <tr>\n",
       "      <th>3</th>\n",
       "      <td>2000-01-13</td>\n",
       "      <td>1449.7</td>\n",
       "      <td>1432.2</td>\n",
       "      <td>1454.6</td>\n",
       "      <td>1432.2</td>\n",
       "      <td>0.0122</td>\n",
       "    </tr>\n",
       "    <tr>\n",
       "      <th>4</th>\n",
       "      <td>2000-01-14</td>\n",
       "      <td>1465.2</td>\n",
       "      <td>1449.7</td>\n",
       "      <td>1473.0</td>\n",
       "      <td>1449.7</td>\n",
       "      <td>0.0107</td>\n",
       "    </tr>\n",
       "  </tbody>\n",
       "</table>\n",
       "</div>"
      ],
      "text/plain": [
       "        Date   Price    Open    High     Low  Change %\n",
       "0 2000-01-10  1457.6  1441.5  1464.4  1441.5    0.0112\n",
       "1 2000-01-11  1438.6  1457.6  1458.8  1434.4   -0.0130\n",
       "2 2000-01-12  1432.2  1439.1  1445.3  1427.3   -0.0044\n",
       "3 2000-01-13  1449.7  1432.2  1454.6  1432.2    0.0122\n",
       "4 2000-01-14  1465.2  1449.7  1473.0  1449.7    0.0107"
      ]
     },
     "execution_count": 38,
     "metadata": {},
     "output_type": "execute_result"
    }
   ],
   "source": [
    "df.head()"
   ]
  },
  {
   "cell_type": "code",
   "execution_count": 39,
   "id": "3465b1c9",
   "metadata": {},
   "outputs": [
    {
     "data": {
      "text/html": [
       "<div>\n",
       "<style scoped>\n",
       "    .dataframe tbody tr th:only-of-type {\n",
       "        vertical-align: middle;\n",
       "    }\n",
       "\n",
       "    .dataframe tbody tr th {\n",
       "        vertical-align: top;\n",
       "    }\n",
       "\n",
       "    .dataframe thead th {\n",
       "        text-align: right;\n",
       "    }\n",
       "</style>\n",
       "<table border=\"1\" class=\"dataframe\">\n",
       "  <thead>\n",
       "    <tr style=\"text-align: right;\">\n",
       "      <th></th>\n",
       "      <th>Date</th>\n",
       "      <th>Price</th>\n",
       "      <th>Open</th>\n",
       "      <th>High</th>\n",
       "      <th>Low</th>\n",
       "      <th>Change %</th>\n",
       "    </tr>\n",
       "  </thead>\n",
       "  <tbody>\n",
       "    <tr>\n",
       "      <th>4995</th>\n",
       "      <td>2019-11-15</td>\n",
       "      <td>3120.46</td>\n",
       "      <td>3107.92</td>\n",
       "      <td>3120.46</td>\n",
       "      <td>3104.60</td>\n",
       "      <td>0.0077</td>\n",
       "    </tr>\n",
       "    <tr>\n",
       "      <th>4996</th>\n",
       "      <td>2019-11-18</td>\n",
       "      <td>3122.03</td>\n",
       "      <td>3117.91</td>\n",
       "      <td>3124.17</td>\n",
       "      <td>3112.06</td>\n",
       "      <td>0.0005</td>\n",
       "    </tr>\n",
       "    <tr>\n",
       "      <th>4997</th>\n",
       "      <td>2019-11-19</td>\n",
       "      <td>3120.18</td>\n",
       "      <td>3127.45</td>\n",
       "      <td>3127.64</td>\n",
       "      <td>3113.47</td>\n",
       "      <td>-0.0006</td>\n",
       "    </tr>\n",
       "    <tr>\n",
       "      <th>4998</th>\n",
       "      <td>2019-11-20</td>\n",
       "      <td>3108.46</td>\n",
       "      <td>3114.66</td>\n",
       "      <td>3118.97</td>\n",
       "      <td>3091.41</td>\n",
       "      <td>-0.0038</td>\n",
       "    </tr>\n",
       "    <tr>\n",
       "      <th>4999</th>\n",
       "      <td>2019-11-21</td>\n",
       "      <td>3103.54</td>\n",
       "      <td>3108.49</td>\n",
       "      <td>3110.11</td>\n",
       "      <td>3094.55</td>\n",
       "      <td>-0.0016</td>\n",
       "    </tr>\n",
       "  </tbody>\n",
       "</table>\n",
       "</div>"
      ],
      "text/plain": [
       "           Date    Price     Open     High      Low  Change %\n",
       "4995 2019-11-15  3120.46  3107.92  3120.46  3104.60    0.0077\n",
       "4996 2019-11-18  3122.03  3117.91  3124.17  3112.06    0.0005\n",
       "4997 2019-11-19  3120.18  3127.45  3127.64  3113.47   -0.0006\n",
       "4998 2019-11-20  3108.46  3114.66  3118.97  3091.41   -0.0038\n",
       "4999 2019-11-21  3103.54  3108.49  3110.11  3094.55   -0.0016"
      ]
     },
     "execution_count": 39,
     "metadata": {},
     "output_type": "execute_result"
    }
   ],
   "source": [
    "df.tail()"
   ]
  },
  {
   "cell_type": "code",
   "execution_count": 42,
   "id": "476c9a21",
   "metadata": {},
   "outputs": [],
   "source": [
    "df.sort_values(by='Date', inplace=True)"
   ]
  },
  {
   "cell_type": "markdown",
   "id": "b526b513",
   "metadata": {},
   "source": [
    "## OR"
   ]
  },
  {
   "cell_type": "code",
   "execution_count": 43,
   "id": "ed802812",
   "metadata": {},
   "outputs": [
    {
     "data": {
      "text/html": [
       "<div>\n",
       "<style scoped>\n",
       "    .dataframe tbody tr th:only-of-type {\n",
       "        vertical-align: middle;\n",
       "    }\n",
       "\n",
       "    .dataframe tbody tr th {\n",
       "        vertical-align: top;\n",
       "    }\n",
       "\n",
       "    .dataframe thead th {\n",
       "        text-align: right;\n",
       "    }\n",
       "</style>\n",
       "<table border=\"1\" class=\"dataframe\">\n",
       "  <thead>\n",
       "    <tr style=\"text-align: right;\">\n",
       "      <th></th>\n",
       "      <th>Date</th>\n",
       "      <th>Price</th>\n",
       "      <th>Open</th>\n",
       "      <th>High</th>\n",
       "      <th>Low</th>\n",
       "      <th>Change %</th>\n",
       "    </tr>\n",
       "  </thead>\n",
       "  <tbody>\n",
       "    <tr>\n",
       "      <th>0</th>\n",
       "      <td>2000-01-10</td>\n",
       "      <td>1457.60</td>\n",
       "      <td>1441.50</td>\n",
       "      <td>1464.40</td>\n",
       "      <td>1441.50</td>\n",
       "      <td>0.0112</td>\n",
       "    </tr>\n",
       "    <tr>\n",
       "      <th>1</th>\n",
       "      <td>2000-01-11</td>\n",
       "      <td>1438.60</td>\n",
       "      <td>1457.60</td>\n",
       "      <td>1458.80</td>\n",
       "      <td>1434.40</td>\n",
       "      <td>-0.0130</td>\n",
       "    </tr>\n",
       "    <tr>\n",
       "      <th>2</th>\n",
       "      <td>2000-01-12</td>\n",
       "      <td>1432.20</td>\n",
       "      <td>1439.10</td>\n",
       "      <td>1445.30</td>\n",
       "      <td>1427.30</td>\n",
       "      <td>-0.0044</td>\n",
       "    </tr>\n",
       "    <tr>\n",
       "      <th>3</th>\n",
       "      <td>2000-01-13</td>\n",
       "      <td>1449.70</td>\n",
       "      <td>1432.20</td>\n",
       "      <td>1454.60</td>\n",
       "      <td>1432.20</td>\n",
       "      <td>0.0122</td>\n",
       "    </tr>\n",
       "    <tr>\n",
       "      <th>4</th>\n",
       "      <td>2000-01-14</td>\n",
       "      <td>1465.20</td>\n",
       "      <td>1449.70</td>\n",
       "      <td>1473.00</td>\n",
       "      <td>1449.70</td>\n",
       "      <td>0.0107</td>\n",
       "    </tr>\n",
       "    <tr>\n",
       "      <th>...</th>\n",
       "      <td>...</td>\n",
       "      <td>...</td>\n",
       "      <td>...</td>\n",
       "      <td>...</td>\n",
       "      <td>...</td>\n",
       "      <td>...</td>\n",
       "    </tr>\n",
       "    <tr>\n",
       "      <th>4995</th>\n",
       "      <td>2019-11-15</td>\n",
       "      <td>3120.46</td>\n",
       "      <td>3107.92</td>\n",
       "      <td>3120.46</td>\n",
       "      <td>3104.60</td>\n",
       "      <td>0.0077</td>\n",
       "    </tr>\n",
       "    <tr>\n",
       "      <th>4996</th>\n",
       "      <td>2019-11-18</td>\n",
       "      <td>3122.03</td>\n",
       "      <td>3117.91</td>\n",
       "      <td>3124.17</td>\n",
       "      <td>3112.06</td>\n",
       "      <td>0.0005</td>\n",
       "    </tr>\n",
       "    <tr>\n",
       "      <th>4997</th>\n",
       "      <td>2019-11-19</td>\n",
       "      <td>3120.18</td>\n",
       "      <td>3127.45</td>\n",
       "      <td>3127.64</td>\n",
       "      <td>3113.47</td>\n",
       "      <td>-0.0006</td>\n",
       "    </tr>\n",
       "    <tr>\n",
       "      <th>4998</th>\n",
       "      <td>2019-11-20</td>\n",
       "      <td>3108.46</td>\n",
       "      <td>3114.66</td>\n",
       "      <td>3118.97</td>\n",
       "      <td>3091.41</td>\n",
       "      <td>-0.0038</td>\n",
       "    </tr>\n",
       "    <tr>\n",
       "      <th>4999</th>\n",
       "      <td>2019-11-21</td>\n",
       "      <td>3103.54</td>\n",
       "      <td>3108.49</td>\n",
       "      <td>3110.11</td>\n",
       "      <td>3094.55</td>\n",
       "      <td>-0.0016</td>\n",
       "    </tr>\n",
       "  </tbody>\n",
       "</table>\n",
       "<p>5000 rows × 6 columns</p>\n",
       "</div>"
      ],
      "text/plain": [
       "           Date    Price     Open     High      Low  Change %\n",
       "0    2000-01-10  1457.60  1441.50  1464.40  1441.50    0.0112\n",
       "1    2000-01-11  1438.60  1457.60  1458.80  1434.40   -0.0130\n",
       "2    2000-01-12  1432.20  1439.10  1445.30  1427.30   -0.0044\n",
       "3    2000-01-13  1449.70  1432.20  1454.60  1432.20    0.0122\n",
       "4    2000-01-14  1465.20  1449.70  1473.00  1449.70    0.0107\n",
       "...         ...      ...      ...      ...      ...       ...\n",
       "4995 2019-11-15  3120.46  3107.92  3120.46  3104.60    0.0077\n",
       "4996 2019-11-18  3122.03  3117.91  3124.17  3112.06    0.0005\n",
       "4997 2019-11-19  3120.18  3127.45  3127.64  3113.47   -0.0006\n",
       "4998 2019-11-20  3108.46  3114.66  3118.97  3091.41   -0.0038\n",
       "4999 2019-11-21  3103.54  3108.49  3110.11  3094.55   -0.0016\n",
       "\n",
       "[5000 rows x 6 columns]"
      ]
     },
     "execution_count": 43,
     "metadata": {},
     "output_type": "execute_result"
    }
   ],
   "source": [
    "df = df.sort_values(by = 'Date')"
   ]
  },
  {
   "cell_type": "code",
   "execution_count": 49,
   "id": "ed81b9c2",
   "metadata": {},
   "outputs": [
    {
     "data": {
      "text/html": [
       "<div>\n",
       "<style scoped>\n",
       "    .dataframe tbody tr th:only-of-type {\n",
       "        vertical-align: middle;\n",
       "    }\n",
       "\n",
       "    .dataframe tbody tr th {\n",
       "        vertical-align: top;\n",
       "    }\n",
       "\n",
       "    .dataframe thead th {\n",
       "        text-align: right;\n",
       "    }\n",
       "</style>\n",
       "<table border=\"1\" class=\"dataframe\">\n",
       "  <thead>\n",
       "    <tr style=\"text-align: right;\">\n",
       "      <th></th>\n",
       "      <th>Price</th>\n",
       "      <th>Open</th>\n",
       "      <th>High</th>\n",
       "      <th>Low</th>\n",
       "      <th>Change %</th>\n",
       "    </tr>\n",
       "  </thead>\n",
       "  <tbody>\n",
       "    <tr>\n",
       "      <th>count</th>\n",
       "      <td>5000.000000</td>\n",
       "      <td>5000.000000</td>\n",
       "      <td>5000.000000</td>\n",
       "      <td>5000.000000</td>\n",
       "      <td>5000.000000</td>\n",
       "    </tr>\n",
       "    <tr>\n",
       "      <th>mean</th>\n",
       "      <td>1566.026324</td>\n",
       "      <td>1565.240116</td>\n",
       "      <td>1574.718160</td>\n",
       "      <td>1556.238572</td>\n",
       "      <td>0.000220</td>\n",
       "    </tr>\n",
       "    <tr>\n",
       "      <th>std</th>\n",
       "      <td>577.579617</td>\n",
       "      <td>578.340859</td>\n",
       "      <td>578.270345</td>\n",
       "      <td>576.552376</td>\n",
       "      <td>0.011896</td>\n",
       "    </tr>\n",
       "    <tr>\n",
       "      <th>min</th>\n",
       "      <td>0.000000</td>\n",
       "      <td>0.000000</td>\n",
       "      <td>0.000000</td>\n",
       "      <td>0.000000</td>\n",
       "      <td>-0.090300</td>\n",
       "    </tr>\n",
       "    <tr>\n",
       "      <th>25%</th>\n",
       "      <td>1149.892500</td>\n",
       "      <td>1149.000000</td>\n",
       "      <td>1157.800000</td>\n",
       "      <td>1140.575000</td>\n",
       "      <td>-0.004700</td>\n",
       "    </tr>\n",
       "    <tr>\n",
       "      <th>50%</th>\n",
       "      <td>1357.820000</td>\n",
       "      <td>1357.205000</td>\n",
       "      <td>1366.470000</td>\n",
       "      <td>1346.525000</td>\n",
       "      <td>0.000500</td>\n",
       "    </tr>\n",
       "    <tr>\n",
       "      <th>75%</th>\n",
       "      <td>1977.872500</td>\n",
       "      <td>1976.682500</td>\n",
       "      <td>1985.080000</td>\n",
       "      <td>1966.492500</td>\n",
       "      <td>0.005700</td>\n",
       "    </tr>\n",
       "    <tr>\n",
       "      <th>max</th>\n",
       "      <td>3122.030000</td>\n",
       "      <td>3127.450000</td>\n",
       "      <td>3127.640000</td>\n",
       "      <td>3113.470000</td>\n",
       "      <td>0.115800</td>\n",
       "    </tr>\n",
       "  </tbody>\n",
       "</table>\n",
       "</div>"
      ],
      "text/plain": [
       "             Price         Open         High          Low     Change %\n",
       "count  5000.000000  5000.000000  5000.000000  5000.000000  5000.000000\n",
       "mean   1566.026324  1565.240116  1574.718160  1556.238572     0.000220\n",
       "std     577.579617   578.340859   578.270345   576.552376     0.011896\n",
       "min       0.000000     0.000000     0.000000     0.000000    -0.090300\n",
       "25%    1149.892500  1149.000000  1157.800000  1140.575000    -0.004700\n",
       "50%    1357.820000  1357.205000  1366.470000  1346.525000     0.000500\n",
       "75%    1977.872500  1976.682500  1985.080000  1966.492500     0.005700\n",
       "max    3122.030000  3127.450000  3127.640000  3113.470000     0.115800"
      ]
     },
     "execution_count": 49,
     "metadata": {},
     "output_type": "execute_result"
    }
   ],
   "source": [
    "df.describe()"
   ]
  },
  {
   "cell_type": "markdown",
   "id": "9c6b5d3e",
   "metadata": {},
   "source": [
    "## Load Miltiple files"
   ]
  },
  {
   "cell_type": "code",
   "execution_count": 50,
   "id": "0759858e",
   "metadata": {},
   "outputs": [],
   "source": [
    "path = 'C:/Users/AmirSaeed/Desktop/python_session/files/'"
   ]
  },
  {
   "cell_type": "code",
   "execution_count": 89,
   "id": "8dfa8913",
   "metadata": {},
   "outputs": [],
   "source": [
    "os.chdir(path)"
   ]
  },
  {
   "cell_type": "code",
   "execution_count": 55,
   "id": "bc0a99b7",
   "metadata": {
    "scrolled": false
   },
   "outputs": [
    {
     "data": {
      "text/plain": [
       "['kpi1_20220101.csv',\n",
       " 'kpi1_20220102.csv',\n",
       " 'kpi1_20220103.csv',\n",
       " 'kpi1_20220104.csv',\n",
       " 'kpi1_20220105.csv',\n",
       " 'kpi1_20220106.csv',\n",
       " 'kpi1_20220107.csv',\n",
       " 'kpi2_20220101.csv',\n",
       " 'kpi2_20220102.csv',\n",
       " 'kpi2_20220103.csv',\n",
       " 'kpi2_20220104.csv']"
      ]
     },
     "execution_count": 55,
     "metadata": {},
     "output_type": "execute_result"
    }
   ],
   "source": [
    "os.listdir(path) ## If all files to be combied are in same format"
   ]
  },
  {
   "cell_type": "markdown",
   "id": "ece3766f",
   "metadata": {},
   "source": [
    "### If files are in different format"
   ]
  },
  {
   "cell_type": "code",
   "execution_count": 92,
   "id": "33add63e",
   "metadata": {},
   "outputs": [
    {
     "name": "stdout",
     "output_type": "stream",
     "text": [
      "kpi1_20220101.csv\n",
      "kpi1_20220102.csv\n",
      "kpi1_20220103.csv\n",
      "kpi1_20220104.csv\n",
      "kpi1_20220105.csv\n",
      "kpi1_20220106.csv\n",
      "kpi1_20220107.csv\n"
     ]
    }
   ],
   "source": [
    "for file in glob.glob(\"kpi1*\"):\n",
    "    print(file)"
   ]
  },
  {
   "cell_type": "code",
   "execution_count": 93,
   "id": "27aef645",
   "metadata": {},
   "outputs": [
    {
     "name": "stdout",
     "output_type": "stream",
     "text": [
      "C:/Users/AmirSaeed/Desktop/python_session/files/kpi1_20220101.csv\n",
      "C:/Users/AmirSaeed/Desktop/python_session/files/kpi1_20220102.csv\n",
      "C:/Users/AmirSaeed/Desktop/python_session/files/kpi1_20220103.csv\n",
      "C:/Users/AmirSaeed/Desktop/python_session/files/kpi1_20220104.csv\n",
      "C:/Users/AmirSaeed/Desktop/python_session/files/kpi1_20220105.csv\n",
      "C:/Users/AmirSaeed/Desktop/python_session/files/kpi1_20220106.csv\n",
      "C:/Users/AmirSaeed/Desktop/python_session/files/kpi1_20220107.csv\n"
     ]
    }
   ],
   "source": [
    "kpi1 = pd.DataFrame()\n",
    "for file in glob.glob(\"kpi1*\"):\n",
    "    print(path+file)\n",
    "    kpi1 = pd.concat([kpi1, pd.read_csv(path+file)])"
   ]
  },
  {
   "cell_type": "code",
   "execution_count": 94,
   "id": "dc5b88b1",
   "metadata": {},
   "outputs": [
    {
     "data": {
      "text/html": [
       "<div>\n",
       "<style scoped>\n",
       "    .dataframe tbody tr th:only-of-type {\n",
       "        vertical-align: middle;\n",
       "    }\n",
       "\n",
       "    .dataframe tbody tr th {\n",
       "        vertical-align: top;\n",
       "    }\n",
       "\n",
       "    .dataframe thead th {\n",
       "        text-align: right;\n",
       "    }\n",
       "</style>\n",
       "<table border=\"1\" class=\"dataframe\">\n",
       "  <thead>\n",
       "    <tr style=\"text-align: right;\">\n",
       "      <th></th>\n",
       "      <th>Date</th>\n",
       "      <th>KPI</th>\n",
       "      <th>value</th>\n",
       "    </tr>\n",
       "  </thead>\n",
       "  <tbody>\n",
       "    <tr>\n",
       "      <th>0</th>\n",
       "      <td>1/1/2022</td>\n",
       "      <td>kpi1</td>\n",
       "      <td>80.36</td>\n",
       "    </tr>\n",
       "    <tr>\n",
       "      <th>0</th>\n",
       "      <td>1/2/2022</td>\n",
       "      <td>kpi1</td>\n",
       "      <td>56.32</td>\n",
       "    </tr>\n",
       "    <tr>\n",
       "      <th>0</th>\n",
       "      <td>1/3/2022</td>\n",
       "      <td>kpi1</td>\n",
       "      <td>67.16</td>\n",
       "    </tr>\n",
       "    <tr>\n",
       "      <th>0</th>\n",
       "      <td>1/4/2022</td>\n",
       "      <td>kpi1</td>\n",
       "      <td>15.34</td>\n",
       "    </tr>\n",
       "    <tr>\n",
       "      <th>0</th>\n",
       "      <td>1/5/2022</td>\n",
       "      <td>kpi1</td>\n",
       "      <td>96.81</td>\n",
       "    </tr>\n",
       "    <tr>\n",
       "      <th>0</th>\n",
       "      <td>1/6/2022</td>\n",
       "      <td>kpi1</td>\n",
       "      <td>20.37</td>\n",
       "    </tr>\n",
       "    <tr>\n",
       "      <th>0</th>\n",
       "      <td>1/7/2022</td>\n",
       "      <td>kpi1</td>\n",
       "      <td>69.71</td>\n",
       "    </tr>\n",
       "  </tbody>\n",
       "</table>\n",
       "</div>"
      ],
      "text/plain": [
       "       Date   KPI  value\n",
       "0  1/1/2022  kpi1  80.36\n",
       "0  1/2/2022  kpi1  56.32\n",
       "0  1/3/2022  kpi1  67.16\n",
       "0  1/4/2022  kpi1  15.34\n",
       "0  1/5/2022  kpi1  96.81\n",
       "0  1/6/2022  kpi1  20.37\n",
       "0  1/7/2022  kpi1  69.71"
      ]
     },
     "execution_count": 94,
     "metadata": {},
     "output_type": "execute_result"
    }
   ],
   "source": [
    "kpi1"
   ]
  },
  {
   "cell_type": "code",
   "execution_count": 95,
   "id": "c50335fc",
   "metadata": {},
   "outputs": [
    {
     "name": "stdout",
     "output_type": "stream",
     "text": [
      "C:/Users/AmirSaeed/Desktop/python_session/files/kpi2_20220101.csv\n",
      "C:/Users/AmirSaeed/Desktop/python_session/files/kpi2_20220102.csv\n",
      "C:/Users/AmirSaeed/Desktop/python_session/files/kpi2_20220103.csv\n",
      "C:/Users/AmirSaeed/Desktop/python_session/files/kpi2_20220104.csv\n"
     ]
    }
   ],
   "source": [
    "kpi2 = pd.DataFrame()\n",
    "for file in glob.glob(\"kpi2*\"):\n",
    "    print(path+file)\n",
    "    kpi2 = pd.concat([kpi2, pd.read_csv(path+file)])"
   ]
  },
  {
   "cell_type": "code",
   "execution_count": 96,
   "id": "4a504a70",
   "metadata": {},
   "outputs": [
    {
     "data": {
      "text/html": [
       "<div>\n",
       "<style scoped>\n",
       "    .dataframe tbody tr th:only-of-type {\n",
       "        vertical-align: middle;\n",
       "    }\n",
       "\n",
       "    .dataframe tbody tr th {\n",
       "        vertical-align: top;\n",
       "    }\n",
       "\n",
       "    .dataframe thead th {\n",
       "        text-align: right;\n",
       "    }\n",
       "</style>\n",
       "<table border=\"1\" class=\"dataframe\">\n",
       "  <thead>\n",
       "    <tr style=\"text-align: right;\">\n",
       "      <th></th>\n",
       "      <th>Date</th>\n",
       "      <th>KPI</th>\n",
       "      <th>category</th>\n",
       "      <th>value</th>\n",
       "    </tr>\n",
       "  </thead>\n",
       "  <tbody>\n",
       "    <tr>\n",
       "      <th>0</th>\n",
       "      <td>1/1/2022</td>\n",
       "      <td>kpi2</td>\n",
       "      <td>cat1</td>\n",
       "      <td>943.9</td>\n",
       "    </tr>\n",
       "    <tr>\n",
       "      <th>1</th>\n",
       "      <td>1/1/2022</td>\n",
       "      <td>kpi2</td>\n",
       "      <td>cat2</td>\n",
       "      <td>794.4</td>\n",
       "    </tr>\n",
       "    <tr>\n",
       "      <th>0</th>\n",
       "      <td>1/2/2022</td>\n",
       "      <td>kpi2</td>\n",
       "      <td>cat1</td>\n",
       "      <td>365.8</td>\n",
       "    </tr>\n",
       "    <tr>\n",
       "      <th>1</th>\n",
       "      <td>1/2/2022</td>\n",
       "      <td>kpi2</td>\n",
       "      <td>cat2</td>\n",
       "      <td>174.0</td>\n",
       "    </tr>\n",
       "    <tr>\n",
       "      <th>0</th>\n",
       "      <td>1/3/2022</td>\n",
       "      <td>kpi2</td>\n",
       "      <td>cat1</td>\n",
       "      <td>532.7</td>\n",
       "    </tr>\n",
       "    <tr>\n",
       "      <th>1</th>\n",
       "      <td>1/3/2022</td>\n",
       "      <td>kpi2</td>\n",
       "      <td>cat2</td>\n",
       "      <td>685.9</td>\n",
       "    </tr>\n",
       "    <tr>\n",
       "      <th>0</th>\n",
       "      <td>1/4/2022</td>\n",
       "      <td>kpi2</td>\n",
       "      <td>cat1</td>\n",
       "      <td>29.8</td>\n",
       "    </tr>\n",
       "    <tr>\n",
       "      <th>1</th>\n",
       "      <td>1/4/2022</td>\n",
       "      <td>kpi2</td>\n",
       "      <td>cat2</td>\n",
       "      <td>725.6</td>\n",
       "    </tr>\n",
       "  </tbody>\n",
       "</table>\n",
       "</div>"
      ],
      "text/plain": [
       "       Date   KPI category  value\n",
       "0  1/1/2022  kpi2     cat1  943.9\n",
       "1  1/1/2022  kpi2     cat2  794.4\n",
       "0  1/2/2022  kpi2     cat1  365.8\n",
       "1  1/2/2022  kpi2     cat2  174.0\n",
       "0  1/3/2022  kpi2     cat1  532.7\n",
       "1  1/3/2022  kpi2     cat2  685.9\n",
       "0  1/4/2022  kpi2     cat1   29.8\n",
       "1  1/4/2022  kpi2     cat2  725.6"
      ]
     },
     "execution_count": 96,
     "metadata": {},
     "output_type": "execute_result"
    }
   ],
   "source": [
    "kpi2"
   ]
  },
  {
   "cell_type": "code",
   "execution_count": null,
   "id": "230bcf3f",
   "metadata": {},
   "outputs": [],
   "source": []
  }
 ],
 "metadata": {
  "kernelspec": {
   "display_name": "Python 3",
   "language": "python",
   "name": "python3"
  },
  "language_info": {
   "codemirror_mode": {
    "name": "ipython",
    "version": 3
   },
   "file_extension": ".py",
   "mimetype": "text/x-python",
   "name": "python",
   "nbconvert_exporter": "python",
   "pygments_lexer": "ipython3",
   "version": "3.6.13"
  }
 },
 "nbformat": 4,
 "nbformat_minor": 5
}
